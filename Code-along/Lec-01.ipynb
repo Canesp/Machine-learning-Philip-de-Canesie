{
 "cells": [
  {
   "cell_type": "code",
   "execution_count": null,
   "metadata": {},
   "outputs": [],
   "source": []
  }
 ],
 "metadata": {
  "kernelspec": {
   "display_name": "Machine-learning-Philip-de-Canesie-OoLX37Xs",
   "language": "python",
   "name": "python3"
  },
  "language_info": {
   "name": "python",
   "version": "3.9.12"
  },
  "orig_nbformat": 4,
  "vscode": {
   "interpreter": {
    "hash": "8cd2aa23afa50b663ad4bd4cc7c5272622971df6bc48f309578c18f278ec8896"
   }
  }
 },
 "nbformat": 4,
 "nbformat_minor": 2
}
